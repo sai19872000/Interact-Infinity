{
 "cells": [
  {
   "cell_type": "code",
   "execution_count": 1,
   "metadata": {},
   "outputs": [],
   "source": [
    "from langchain.chains import RetrievalQA\n",
    "from langchain.document_loaders import PyPDFLoader\n",
    "from langchain.embeddings import HuggingFaceEmbeddings\n",
    "from langchain.llms import GPT4All\n",
    "from langchain.text_splitter import RecursiveCharacterTextSplitter\n",
    "from langchain.vectorstores import Chroma\n",
    "from pdf2image import convert_from_path"
   ]
  },
  {
   "cell_type": "code",
   "execution_count": 2,
   "metadata": {},
   "outputs": [
    {
     "name": "stdout",
     "output_type": "stream",
     "text": [
      "2\n",
      "9   \n",
      "Dividends  \n",
      "Our Board of Directors declared the following dividends:  \n",
      "  \n",
      "Declaration Date  Record Date  Payment  Date  Dividend  \n",
      "Per Share  Amount    \n",
      "          \n",
      "Fiscal Year 2022        (In millions)  \n",
      "          \n",
      "September  14, 2021   November  18, 2021    December  9, 2021   $   0.62  $ 4,652   \n",
      "December  7, 2021   February  17, 2022    March  10, 2022    0.62   4,645   \n",
      "March  14, 2022   May 19, 2022    June  9, 2022    0.62   4,632   \n",
      "June  14, 2022   August  18, 2022    September  8, 2022    0.62   4,627     \n",
      "Total      $   2.48  $   18,556             \n",
      "          \n",
      "Fiscal Year 2021          \n",
      "          \n",
      "September  15, 2020   November  19, 2020    December  10, 2020   $ 0.56  $ 4,230   \n",
      "December  2, 2020   February  18, 2021    March  11, 2021    0.56   4,221   \n",
      "March  16, 2021   May 20, 2021    June  10, 2021    0.56   4,214   \n",
      "June  16, 2021   August  19, 2021    September  9, 2021    0.56   4,206     \n",
      "          \n",
      "Total      $ 2.24  $ 16,871             \n",
      "The dividend declared on June  14, 2022 was included in other current liabilities as of June  30, 2022.\n"
     ]
    }
   ],
   "source": [
    "# load the pdf file\n",
    "loader = PyPDFLoader(\"ms-financial-statement.pdf\")\n",
    "documents = loader.load_and_split()\n",
    "print(len(documents))\n",
    "\n",
    "print(documents[0].page_content)"
   ]
  },
  {
   "cell_type": "code",
   "execution_count": 3,
   "metadata": {},
   "outputs": [
    {
     "name": "stdout",
     "output_type": "stream",
     "text": [
      "3\n"
     ]
    }
   ],
   "source": [
    "# chunk the text into smaller pieces with overlap\n",
    "\n",
    "text_splitter = RecursiveCharacterTextSplitter(\n",
    "    chunk_size=1024,\n",
    "    chunk_overlap=64\n",
    ")\n",
    "texts = text_splitter.split_documents(documents)\n",
    "print(len(texts))"
   ]
  },
  {
   "cell_type": "code",
   "execution_count": 4,
   "metadata": {},
   "outputs": [
    {
     "name": "stderr",
     "output_type": "stream",
     "text": [
      "/home/sai/discover_company/Interact-Infinity/venv/lib/python3.10/site-packages/tqdm/auto.py:21: TqdmWarning: IProgress not found. Please update jupyter and ipywidgets. See https://ipywidgets.readthedocs.io/en/stable/user_install.html\n",
      "  from .autonotebook import tqdm as notebook_tqdm\n"
     ]
    }
   ],
   "source": [
    "# create the embeddings\n",
    "\n",
    "embeddings = HuggingFaceEmbeddings(\n",
    "    model_name=\"sentence-transformers/all-MiniLM-L6-v2\"\n",
    ")"
   ]
  },
  {
   "cell_type": "code",
   "execution_count": 9,
   "metadata": {},
   "outputs": [],
   "source": [
    "# save embeddings into a chroma database\n",
    "db = Chroma.from_documents(texts, embeddings, persist_directory=\"db\")"
   ]
  },
  {
   "cell_type": "code",
   "execution_count": 6,
   "metadata": {},
   "outputs": [
    {
     "name": "stdout",
     "output_type": "stream",
     "text": [
      "Found model file at  ./ggml-gpt4all-j-v1.3-groovy.bin\n",
      "gptj_model_load: loading model from './ggml-gpt4all-j-v1.3-groovy.bin' - please wait ...\n",
      "gptj_model_load: n_vocab = 50400\n",
      "gptj_model_load: n_ctx   = 2048\n",
      "gptj_model_load: n_embd  = 4096\n",
      "gptj_model_load: n_head  = 16\n",
      "gptj_model_load: n_layer = 28\n",
      "gptj_model_load: n_rot   = 64\n",
      "gptj_model_load: f16     = 2\n",
      "gptj_model_load: ggml ctx size = 5401.45 MB\n",
      "gptj_model_load: kv self size  =  896.00 MB\n",
      "gptj_model_load: ................................... done\n",
      "gptj_model_load: model size =  3609.38 MB / num tensors = 285\n"
     ]
    }
   ],
   "source": [
    "# create chain. load gpt4all model\n",
    "\n",
    "llm = GPT4All(\n",
    "    model=\"./ggml-gpt4all-j-v1.3-groovy.bin\",\n",
    "    n_ctx=1000,\n",
    "    backend=\"gptj\",\n",
    "    verbose=False\n",
    ")"
   ]
  },
  {
   "cell_type": "code",
   "execution_count": 7,
   "metadata": {},
   "outputs": [],
   "source": [
    "# create the retrieval chain\n",
    "\n",
    "qa = RetrievalQA.from_chain_type(\n",
    "    llm=llm,\n",
    "    chain_type=\"stuff\",\n",
    "    retriever=db.as_retriever(search_kwargs={\"k\":3}),\n",
    "    return_source_documents=True,\n",
    "    verbose=False\n",
    ")"
   ]
  },
  {
   "cell_type": "code",
   "execution_count": 10,
   "metadata": {},
   "outputs": [
    {
     "name": "stdout",
     "output_type": "stream",
     "text": [
      " The information provided does not contain enough details to extract an accurate answer on how many shares were issued and paid dividends in 2021 or 2020, nor what percentage of stock ownership each shareholder has that may have influenced the company's dividend policy during those years. Therefore I am unable provide a definitive answer based solely upon this text snippet alone as it lacks important context necessary for interpretation\n",
      " The information provided does not contain enough details to extract an accurate answer on how many shares were issued and paid dividends in 2021 or 2020, nor what percentage of stock ownership each shareholder has that may have influenced the company's dividend policy during those years. Therefore I am unable provide a definitive answer based solely upon this text snippet alone as it lacks important context necessary for interpretation\n"
     ]
    }
   ],
   "source": [
    "# ask a question\n",
    "res = qa(f\"\"\"\n",
    "    How much is the dividend per share during during 2022?\n",
    "    Extract it from the text.\n",
    "\"\"\")\n",
    "print(res[\"result\"])"
   ]
  }
 ],
 "metadata": {
  "kernelspec": {
   "display_name": "venv",
   "language": "python",
   "name": "python3"
  },
  "language_info": {
   "codemirror_mode": {
    "name": "ipython",
    "version": 3
   },
   "file_extension": ".py",
   "mimetype": "text/x-python",
   "name": "python",
   "nbconvert_exporter": "python",
   "pygments_lexer": "ipython3",
   "version": "3.10.6"
  },
  "orig_nbformat": 4
 },
 "nbformat": 4,
 "nbformat_minor": 2
}
